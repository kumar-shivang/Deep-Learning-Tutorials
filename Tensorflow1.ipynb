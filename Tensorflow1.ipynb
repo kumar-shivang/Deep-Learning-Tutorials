{
  "nbformat": 4,
  "nbformat_minor": 0,
  "metadata": {
    "colab": {
      "provenance": [],
      "authorship_tag": "ABX9TyM3J02xvKbWN8NGOGxytLQx",
      "include_colab_link": true
    },
    "kernelspec": {
      "name": "python3",
      "display_name": "Python 3"
    },
    "language_info": {
      "name": "python"
    }
  },
  "cells": [
    {
      "cell_type": "markdown",
      "metadata": {
        "id": "view-in-github",
        "colab_type": "text"
      },
      "source": [
        "<a href=\"https://colab.research.google.com/github/kumar-shivang/Deep-Learning-Tutorials/blob/main/Tensorflow1.ipynb\" target=\"_parent\"><img src=\"https://colab.research.google.com/assets/colab-badge.svg\" alt=\"Open In Colab\"/></a>"
      ]
    },
    {
      "cell_type": "code",
      "execution_count": 15,
      "metadata": {
        "id": "j0H5-oT-FIOi"
      },
      "outputs": [],
      "source": [
        "import tensorflow as tf"
      ]
    },
    {
      "cell_type": "markdown",
      "source": [
        "## Creating a Tensor"
      ],
      "metadata": {
        "id": "zBs2jhfPKwCD"
      }
    },
    {
      "cell_type": "code",
      "source": [
        "tensor_zero_dim = tf.constant(4)\n",
        "print(tensor_zero_dim)"
      ],
      "metadata": {
        "colab": {
          "base_uri": "https://localhost:8080/"
        },
        "id": "XVqtxLNMFV54",
        "outputId": "25234ca2-bd11-4247-de35-09e5a3781537"
      },
      "execution_count": 16,
      "outputs": [
        {
          "output_type": "stream",
          "name": "stdout",
          "text": [
            "tf.Tensor(4, shape=(), dtype=int32)\n"
          ]
        }
      ]
    },
    {
      "cell_type": "code",
      "source": [
        "tensor_one_dim = tf.constant([1,2,3])\n",
        "print(tensor_one_dim)"
      ],
      "metadata": {
        "colab": {
          "base_uri": "https://localhost:8080/"
        },
        "id": "-o_jWfKBFjaa",
        "outputId": "42cd3f85-27ce-4a36-c7d3-c6d113d04d4d"
      },
      "execution_count": 17,
      "outputs": [
        {
          "output_type": "stream",
          "name": "stdout",
          "text": [
            "tf.Tensor([1 2 3], shape=(3,), dtype=int32)\n"
          ]
        }
      ]
    },
    {
      "cell_type": "code",
      "source": [
        "tensor_two_dim = tf.constant([\n",
        "    [1,2,3],\n",
        "    [4,5,6],\n",
        "    [7,8,9]\n",
        "])\n",
        "print(tensor_two_dim)"
      ],
      "metadata": {
        "colab": {
          "base_uri": "https://localhost:8080/"
        },
        "id": "epzBYFAVF0Iv",
        "outputId": "4dfd3f19-cc5a-4e7e-9adf-2baf44fb90a1"
      },
      "execution_count": 18,
      "outputs": [
        {
          "output_type": "stream",
          "name": "stdout",
          "text": [
            "tf.Tensor(\n",
            "[[1 2 3]\n",
            " [4 5 6]\n",
            " [7 8 9]], shape=(3, 3), dtype=int32)\n"
          ]
        }
      ]
    },
    {
      "cell_type": "code",
      "source": [
        "tensor_three_dim = tf.constant([\n",
        "    [\n",
        "        [1,2,3],\n",
        "        [4,5,6],\n",
        "        [7,8,9]\n",
        "    ],\n",
        "    [\n",
        "        [1,2,3],\n",
        "        [4,5,6],\n",
        "        [7,8,9]\n",
        "    ],\n",
        "    [\n",
        "        [1,2,3],\n",
        "        [4,5,6],\n",
        "        [7,8,9]\n",
        "    ]\n",
        "])\n",
        "print(tensor_three_dim)"
      ],
      "metadata": {
        "colab": {
          "base_uri": "https://localhost:8080/"
        },
        "id": "dokpAI7zF5xV",
        "outputId": "c35a7a44-f7ca-400c-e0bc-0fe50820a5f7"
      },
      "execution_count": 19,
      "outputs": [
        {
          "output_type": "stream",
          "name": "stdout",
          "text": [
            "tf.Tensor(\n",
            "[[[1 2 3]\n",
            "  [4 5 6]\n",
            "  [7 8 9]]\n",
            "\n",
            " [[1 2 3]\n",
            "  [4 5 6]\n",
            "  [7 8 9]]\n",
            "\n",
            " [[1 2 3]\n",
            "  [4 5 6]\n",
            "  [7 8 9]]], shape=(3, 3, 3), dtype=int32)\n"
          ]
        }
      ]
    },
    {
      "cell_type": "code",
      "source": [
        "tensor_four_dim = tf.constant([\n",
        "    [\n",
        "    [\n",
        "        [1,2,3],\n",
        "        [4,5,6],\n",
        "        [7,8,9]\n",
        "    ],\n",
        "    [\n",
        "        [1,2,3],\n",
        "        [4,5,6],\n",
        "        [7,8,9]\n",
        "    ],\n",
        "    [\n",
        "        [1,2,3],\n",
        "        [4,5,6],\n",
        "        [7,8,9]\n",
        "    ]\n",
        "    ],\n",
        "    [\n",
        "    [\n",
        "        [1,2,3],\n",
        "        [4,5,6],\n",
        "        [7,8,9]\n",
        "    ],\n",
        "    [\n",
        "        [1,2,3],\n",
        "        [4,5,6],\n",
        "        [7,8,9]\n",
        "    ],\n",
        "    [\n",
        "        [1,2,3],\n",
        "        [4,5,6],\n",
        "        [7,8,9]\n",
        "    ]\n",
        "]\n",
        "])\n",
        "print(tensor_four_dim)"
      ],
      "metadata": {
        "colab": {
          "base_uri": "https://localhost:8080/"
        },
        "id": "naSXSXsbG5k0",
        "outputId": "4f043329-090c-470f-acb6-e1a5fdf6afc6"
      },
      "execution_count": 20,
      "outputs": [
        {
          "output_type": "stream",
          "name": "stdout",
          "text": [
            "tf.Tensor(\n",
            "[[[[1 2 3]\n",
            "   [4 5 6]\n",
            "   [7 8 9]]\n",
            "\n",
            "  [[1 2 3]\n",
            "   [4 5 6]\n",
            "   [7 8 9]]\n",
            "\n",
            "  [[1 2 3]\n",
            "   [4 5 6]\n",
            "   [7 8 9]]]\n",
            "\n",
            "\n",
            " [[[1 2 3]\n",
            "   [4 5 6]\n",
            "   [7 8 9]]\n",
            "\n",
            "  [[1 2 3]\n",
            "   [4 5 6]\n",
            "   [7 8 9]]\n",
            "\n",
            "  [[1 2 3]\n",
            "   [4 5 6]\n",
            "   [7 8 9]]]], shape=(2, 3, 3, 3), dtype=int32)\n"
          ]
        }
      ]
    },
    {
      "cell_type": "markdown",
      "source": [
        "### Defining Data Types"
      ],
      "metadata": {
        "id": "EZEYudddK1wv"
      }
    },
    {
      "cell_type": "code",
      "source": [
        "tensor_int_16 = tf.constant([1,2,3],dtype=tf.int16)\n",
        "tensor_float_64 = tf.constant([1,2,3],dtype=tf.float64)\n",
        "print(tensor_int_16)\n",
        "print(tensor_float_64)"
      ],
      "metadata": {
        "colab": {
          "base_uri": "https://localhost:8080/"
        },
        "id": "zr5yOhJzHvVt",
        "outputId": "815de3eb-bcdc-4e86-de8c-a337f027047b"
      },
      "execution_count": 21,
      "outputs": [
        {
          "output_type": "stream",
          "name": "stdout",
          "text": [
            "tf.Tensor([1 2 3], shape=(3,), dtype=int16)\n",
            "tf.Tensor([1. 2. 3.], shape=(3,), dtype=float64)\n"
          ]
        }
      ]
    },
    {
      "cell_type": "markdown",
      "source": [
        "### String Tensors"
      ],
      "metadata": {
        "id": "YinRIj0iLSBS"
      }
    },
    {
      "cell_type": "code",
      "source": [
        "tensor_string_0d = tf.constant(\"Hello World!\")\n",
        "tensor_string_0d"
      ],
      "metadata": {
        "colab": {
          "base_uri": "https://localhost:8080/"
        },
        "id": "kFXkDWHpLPFk",
        "outputId": "79c4666e-1118-4116-e6ed-5525de14358e"
      },
      "execution_count": 22,
      "outputs": [
        {
          "output_type": "execute_result",
          "data": {
            "text/plain": [
              "<tf.Tensor: shape=(), dtype=string, numpy=b'Hello World!'>"
            ]
          },
          "metadata": {},
          "execution_count": 22
        }
      ]
    },
    {
      "cell_type": "code",
      "source": [
        "tensor_string_1d = tf.constant([\"Hello\",\"World\"])\n",
        "tensor_string_1d"
      ],
      "metadata": {
        "colab": {
          "base_uri": "https://localhost:8080/"
        },
        "id": "9ppZ2r6ELbQN",
        "outputId": "51be88af-a2ea-4da0-c880-81aeac7e05d1"
      },
      "execution_count": 23,
      "outputs": [
        {
          "output_type": "execute_result",
          "data": {
            "text/plain": [
              "<tf.Tensor: shape=(2,), dtype=string, numpy=array([b'Hello', b'World'], dtype=object)>"
            ]
          },
          "metadata": {},
          "execution_count": 23
        }
      ]
    },
    {
      "cell_type": "markdown",
      "source": [
        "### Converting Numpy array to a tensorflow tensor"
      ],
      "metadata": {
        "id": "eHLMTUBqL8CO"
      }
    },
    {
      "cell_type": "code",
      "source": [
        "import numpy as np\n",
        "np_array = np.array([[1,2,3],[2,3,4]])\n",
        "print(np_array)"
      ],
      "metadata": {
        "colab": {
          "base_uri": "https://localhost:8080/"
        },
        "id": "ggVRVYTCLh3t",
        "outputId": "126b63ab-013d-4231-e352-d7c59ca46834"
      },
      "execution_count": 24,
      "outputs": [
        {
          "output_type": "stream",
          "name": "stdout",
          "text": [
            "[[1 2 3]\n",
            " [2 3 4]]\n"
          ]
        }
      ]
    },
    {
      "cell_type": "code",
      "source": [
        "converted_tensor = tf.convert_to_tensor(np_array)\n",
        "print(converted_tensor)"
      ],
      "metadata": {
        "colab": {
          "base_uri": "https://localhost:8080/"
        },
        "id": "O7PvUp_gMI4X",
        "outputId": "f5a37187-7b16-4402-aebe-95f6c6fdf41e"
      },
      "execution_count": 25,
      "outputs": [
        {
          "output_type": "stream",
          "name": "stdout",
          "text": [
            "tf.Tensor(\n",
            "[[1 2 3]\n",
            " [2 3 4]], shape=(2, 3), dtype=int64)\n"
          ]
        }
      ]
    },
    {
      "cell_type": "markdown",
      "source": [
        "### Eye-dentity Matrix"
      ],
      "metadata": {
        "id": "upXsibFMPMIL"
      }
    },
    {
      "cell_type": "code",
      "source": [
        "eye_matrix = tf.eye(num_rows=4)\n",
        "eye_matrix"
      ],
      "metadata": {
        "id": "xUbuC3u-MX-t",
        "colab": {
          "base_uri": "https://localhost:8080/"
        },
        "outputId": "c109d56b-6ba4-4ebf-bbd3-55ab7ae30d75"
      },
      "execution_count": 26,
      "outputs": [
        {
          "output_type": "execute_result",
          "data": {
            "text/plain": [
              "<tf.Tensor: shape=(4, 4), dtype=float32, numpy=\n",
              "array([[1., 0., 0., 0.],\n",
              "       [0., 1., 0., 0.],\n",
              "       [0., 0., 1., 0.],\n",
              "       [0., 0., 0., 1.]], dtype=float32)>"
            ]
          },
          "metadata": {},
          "execution_count": 26
        }
      ]
    },
    {
      "cell_type": "code",
      "source": [
        "eye_matrix_asymmetric = tf.eye(num_rows=4,num_columns=5)\n",
        "eye_matrix_asymmetric"
      ],
      "metadata": {
        "colab": {
          "base_uri": "https://localhost:8080/"
        },
        "id": "YHk5f3kIPZKj",
        "outputId": "9f8ff9b2-8810-4068-8c53-49220307d0d8"
      },
      "execution_count": 28,
      "outputs": [
        {
          "output_type": "execute_result",
          "data": {
            "text/plain": [
              "<tf.Tensor: shape=(4, 5), dtype=float32, numpy=\n",
              "array([[1., 0., 0., 0., 0.],\n",
              "       [0., 1., 0., 0., 0.],\n",
              "       [0., 0., 1., 0., 0.],\n",
              "       [0., 0., 0., 1., 0.]], dtype=float32)>"
            ]
          },
          "metadata": {},
          "execution_count": 28
        }
      ]
    },
    {
      "cell_type": "markdown",
      "source": [
        "#### Multiplying eye matrix"
      ],
      "metadata": {
        "id": "vtjKtC4pP_VH"
      }
    },
    {
      "cell_type": "code",
      "source": [
        "3 * eye_matrix"
      ],
      "metadata": {
        "colab": {
          "base_uri": "https://localhost:8080/"
        },
        "id": "O0KJslqPP5gD",
        "outputId": "f800c52e-59fe-4ca5-a86b-e9d3cbffb1bc"
      },
      "execution_count": 29,
      "outputs": [
        {
          "output_type": "execute_result",
          "data": {
            "text/plain": [
              "<tf.Tensor: shape=(4, 4), dtype=float32, numpy=\n",
              "array([[3., 0., 0., 0.],\n",
              "       [0., 3., 0., 0.],\n",
              "       [0., 0., 3., 0.],\n",
              "       [0., 0., 0., 3.]], dtype=float32)>"
            ]
          },
          "metadata": {},
          "execution_count": 29
        }
      ]
    },
    {
      "cell_type": "code",
      "source": [
        "eye_matrix_batch = tf.eye(num_rows=2,batch_shape=[2,2])\n",
        "eye_matrix_batch"
      ],
      "metadata": {
        "colab": {
          "base_uri": "https://localhost:8080/"
        },
        "id": "i1auCwn-PiyM",
        "outputId": "89d83251-a706-4af5-9a0a-3ab82aa21510"
      },
      "execution_count": 37,
      "outputs": [
        {
          "output_type": "execute_result",
          "data": {
            "text/plain": [
              "<tf.Tensor: shape=(2, 2, 2, 2), dtype=float32, numpy=\n",
              "array([[[[1., 0.],\n",
              "         [0., 1.]],\n",
              "\n",
              "        [[1., 0.],\n",
              "         [0., 1.]]],\n",
              "\n",
              "\n",
              "       [[[1., 0.],\n",
              "         [0., 1.]],\n",
              "\n",
              "        [[1., 0.],\n",
              "         [0., 1.]]]], dtype=float32)>"
            ]
          },
          "metadata": {},
          "execution_count": 37
        }
      ]
    },
    {
      "cell_type": "markdown",
      "source": [
        "### Fill Tensor\n",
        "This creates a tensor filled with a value\n",
        "```python\n",
        "tf.fill(shape,value)\n",
        "```\n",
        "\n",
        "\n"
      ],
      "metadata": {
        "id": "CUsPnUvnSe38"
      }
    },
    {
      "cell_type": "code",
      "source": [
        "tensor_fill = tf.fill([3,3],3)\n",
        "tensor_fill"
      ],
      "metadata": {
        "colab": {
          "base_uri": "https://localhost:8080/"
        },
        "id": "zn306B1NQZkG",
        "outputId": "87335b47-ffce-4d98-d871-3ba372ab9181"
      },
      "execution_count": 38,
      "outputs": [
        {
          "output_type": "execute_result",
          "data": {
            "text/plain": [
              "<tf.Tensor: shape=(3, 3), dtype=int32, numpy=\n",
              "array([[3, 3, 3],\n",
              "       [3, 3, 3],\n",
              "       [3, 3, 3]], dtype=int32)>"
            ]
          },
          "metadata": {},
          "execution_count": 38
        }
      ]
    },
    {
      "cell_type": "code",
      "source": [],
      "metadata": {
        "id": "CtJq4MdQTD1D"
      },
      "execution_count": null,
      "outputs": []
    }
  ]
}